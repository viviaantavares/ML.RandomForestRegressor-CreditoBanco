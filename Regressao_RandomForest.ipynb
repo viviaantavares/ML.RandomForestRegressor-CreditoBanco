{
 "cells": [
  {
   "cell_type": "code",
   "execution_count": 35,
   "id": "60ea9cf7",
   "metadata": {},
   "outputs": [],
   "source": [
    "import numpy as np\n",
    "import pandas as pd\n",
    "import matplotlib.pyplot as plt "
   ]
  },
  {
   "cell_type": "markdown",
   "id": "60e555cb",
   "metadata": {},
   "source": [
    "## Problema:\n",
    "\n",
    "Para melhorar sua concessão de crédito, um banco quer prever quando é a renda mensal dos seus clientes, mesmo considerando que eles podem movimentar contas de outros bancos, e mesmo que eles não declarem ou tragam comprovante\n",
    "\n",
    "### Variáveis:\n",
    "\n",
    "age: Idade </br>\n",
    "NumberOfDependents: Quantidade de dependentes informados pelo cliente </br>\n",
    "RevolvingUtilizationOfUnsecuredLines: Total de crédito tomado sem garantia </br>\n",
    "DebtRatio: Razão da dívida pelo patrimônio </br>\n",
    "NumberOfOpenCreditLinesAndLoans: Número total de empréstimos tomados </br>\n",
    "NumberOfTime30-59DaysPastDueNotWorse: Número de vezes que o cliente ficou entre 30 e 59 dias em atraso </br>\n",
    "NumberOfTime60-89DaysPastDueNotWorse: Número de vezes que o cliente ficou entre 60 e 89 dias em atraso </br>\n",
    "NumberOfTimes90DaysLate: Número de vezes que o cliente atrasou ficou mais de 90 dias em atraso </br>\n",
    "NumberRealEstateLoansOrLines: Quantidade de financiamentos imobliários do cliente </br>\n",
    "\n",
    "\n",
    "### Variável resposta:\n",
    "\n",
    "MonthlyIncome: Renda mensal"
   ]
  },
  {
   "cell_type": "code",
   "execution_count": 3,
   "id": "5c311c82",
   "metadata": {},
   "outputs": [
    {
     "data": {
      "text/html": [
       "<div>\n",
       "<style scoped>\n",
       "    .dataframe tbody tr th:only-of-type {\n",
       "        vertical-align: middle;\n",
       "    }\n",
       "\n",
       "    .dataframe tbody tr th {\n",
       "        vertical-align: top;\n",
       "    }\n",
       "\n",
       "    .dataframe thead th {\n",
       "        text-align: right;\n",
       "    }\n",
       "</style>\n",
       "<table border=\"1\" class=\"dataframe\">\n",
       "  <thead>\n",
       "    <tr style=\"text-align: right;\">\n",
       "      <th></th>\n",
       "      <th>RevolvingUtilizationOfUnsecuredLines</th>\n",
       "      <th>age</th>\n",
       "      <th>NumberOfTime30-59DaysPastDueNotWorse</th>\n",
       "      <th>MonthlyIncome</th>\n",
       "      <th>NumberOfOpenCreditLinesAndLoans</th>\n",
       "      <th>NumberOfTimes90DaysLate</th>\n",
       "      <th>NumberRealEstateLoansOrLines</th>\n",
       "      <th>NumberOfTime60-89DaysPastDueNotWorse</th>\n",
       "      <th>NumberOfDependents</th>\n",
       "    </tr>\n",
       "  </thead>\n",
       "  <tbody>\n",
       "    <tr>\n",
       "      <th>0</th>\n",
       "      <td>0.766127</td>\n",
       "      <td>45</td>\n",
       "      <td>2</td>\n",
       "      <td>9120.0</td>\n",
       "      <td>13</td>\n",
       "      <td>0</td>\n",
       "      <td>6</td>\n",
       "      <td>0</td>\n",
       "      <td>2.0</td>\n",
       "    </tr>\n",
       "    <tr>\n",
       "      <th>1</th>\n",
       "      <td>0.957151</td>\n",
       "      <td>40</td>\n",
       "      <td>0</td>\n",
       "      <td>2600.0</td>\n",
       "      <td>4</td>\n",
       "      <td>0</td>\n",
       "      <td>0</td>\n",
       "      <td>0</td>\n",
       "      <td>1.0</td>\n",
       "    </tr>\n",
       "    <tr>\n",
       "      <th>2</th>\n",
       "      <td>0.658180</td>\n",
       "      <td>38</td>\n",
       "      <td>1</td>\n",
       "      <td>3042.0</td>\n",
       "      <td>2</td>\n",
       "      <td>1</td>\n",
       "      <td>0</td>\n",
       "      <td>0</td>\n",
       "      <td>0.0</td>\n",
       "    </tr>\n",
       "    <tr>\n",
       "      <th>3</th>\n",
       "      <td>0.233810</td>\n",
       "      <td>30</td>\n",
       "      <td>0</td>\n",
       "      <td>3300.0</td>\n",
       "      <td>5</td>\n",
       "      <td>0</td>\n",
       "      <td>0</td>\n",
       "      <td>0</td>\n",
       "      <td>0.0</td>\n",
       "    </tr>\n",
       "    <tr>\n",
       "      <th>4</th>\n",
       "      <td>0.907239</td>\n",
       "      <td>49</td>\n",
       "      <td>1</td>\n",
       "      <td>63588.0</td>\n",
       "      <td>7</td>\n",
       "      <td>0</td>\n",
       "      <td>1</td>\n",
       "      <td>0</td>\n",
       "      <td>0.0</td>\n",
       "    </tr>\n",
       "    <tr>\n",
       "      <th>...</th>\n",
       "      <td>...</td>\n",
       "      <td>...</td>\n",
       "      <td>...</td>\n",
       "      <td>...</td>\n",
       "      <td>...</td>\n",
       "      <td>...</td>\n",
       "      <td>...</td>\n",
       "      <td>...</td>\n",
       "      <td>...</td>\n",
       "    </tr>\n",
       "    <tr>\n",
       "      <th>120264</th>\n",
       "      <td>0.385742</td>\n",
       "      <td>50</td>\n",
       "      <td>0</td>\n",
       "      <td>3400.0</td>\n",
       "      <td>7</td>\n",
       "      <td>0</td>\n",
       "      <td>0</td>\n",
       "      <td>0</td>\n",
       "      <td>0.0</td>\n",
       "    </tr>\n",
       "    <tr>\n",
       "      <th>120265</th>\n",
       "      <td>0.040674</td>\n",
       "      <td>74</td>\n",
       "      <td>0</td>\n",
       "      <td>2100.0</td>\n",
       "      <td>4</td>\n",
       "      <td>0</td>\n",
       "      <td>1</td>\n",
       "      <td>0</td>\n",
       "      <td>0.0</td>\n",
       "    </tr>\n",
       "    <tr>\n",
       "      <th>120266</th>\n",
       "      <td>0.299745</td>\n",
       "      <td>44</td>\n",
       "      <td>0</td>\n",
       "      <td>5584.0</td>\n",
       "      <td>4</td>\n",
       "      <td>0</td>\n",
       "      <td>1</td>\n",
       "      <td>0</td>\n",
       "      <td>2.0</td>\n",
       "    </tr>\n",
       "    <tr>\n",
       "      <th>120267</th>\n",
       "      <td>0.000000</td>\n",
       "      <td>30</td>\n",
       "      <td>0</td>\n",
       "      <td>5716.0</td>\n",
       "      <td>4</td>\n",
       "      <td>0</td>\n",
       "      <td>0</td>\n",
       "      <td>0</td>\n",
       "      <td>0.0</td>\n",
       "    </tr>\n",
       "    <tr>\n",
       "      <th>120268</th>\n",
       "      <td>0.850283</td>\n",
       "      <td>64</td>\n",
       "      <td>0</td>\n",
       "      <td>8158.0</td>\n",
       "      <td>8</td>\n",
       "      <td>0</td>\n",
       "      <td>2</td>\n",
       "      <td>0</td>\n",
       "      <td>0.0</td>\n",
       "    </tr>\n",
       "  </tbody>\n",
       "</table>\n",
       "<p>120269 rows × 9 columns</p>\n",
       "</div>"
      ],
      "text/plain": [
       "        RevolvingUtilizationOfUnsecuredLines  age  \\\n",
       "0                                   0.766127   45   \n",
       "1                                   0.957151   40   \n",
       "2                                   0.658180   38   \n",
       "3                                   0.233810   30   \n",
       "4                                   0.907239   49   \n",
       "...                                      ...  ...   \n",
       "120264                              0.385742   50   \n",
       "120265                              0.040674   74   \n",
       "120266                              0.299745   44   \n",
       "120267                              0.000000   30   \n",
       "120268                              0.850283   64   \n",
       "\n",
       "        NumberOfTime30-59DaysPastDueNotWorse  MonthlyIncome  \\\n",
       "0                                          2         9120.0   \n",
       "1                                          0         2600.0   \n",
       "2                                          1         3042.0   \n",
       "3                                          0         3300.0   \n",
       "4                                          1        63588.0   \n",
       "...                                      ...            ...   \n",
       "120264                                     0         3400.0   \n",
       "120265                                     0         2100.0   \n",
       "120266                                     0         5584.0   \n",
       "120267                                     0         5716.0   \n",
       "120268                                     0         8158.0   \n",
       "\n",
       "        NumberOfOpenCreditLinesAndLoans  NumberOfTimes90DaysLate  \\\n",
       "0                                    13                        0   \n",
       "1                                     4                        0   \n",
       "2                                     2                        1   \n",
       "3                                     5                        0   \n",
       "4                                     7                        0   \n",
       "...                                 ...                      ...   \n",
       "120264                                7                        0   \n",
       "120265                                4                        0   \n",
       "120266                                4                        0   \n",
       "120267                                4                        0   \n",
       "120268                                8                        0   \n",
       "\n",
       "        NumberRealEstateLoansOrLines  NumberOfTime60-89DaysPastDueNotWorse  \\\n",
       "0                                  6                                     0   \n",
       "1                                  0                                     0   \n",
       "2                                  0                                     0   \n",
       "3                                  0                                     0   \n",
       "4                                  1                                     0   \n",
       "...                              ...                                   ...   \n",
       "120264                             0                                     0   \n",
       "120265                             1                                     0   \n",
       "120266                             1                                     0   \n",
       "120267                             0                                     0   \n",
       "120268                             2                                     0   \n",
       "\n",
       "        NumberOfDependents  \n",
       "0                      2.0  \n",
       "1                      1.0  \n",
       "2                      0.0  \n",
       "3                      0.0  \n",
       "4                      0.0  \n",
       "...                    ...  \n",
       "120264                 0.0  \n",
       "120265                 0.0  \n",
       "120266                 2.0  \n",
       "120267                 0.0  \n",
       "120268                 0.0  \n",
       "\n",
       "[120269 rows x 9 columns]"
      ]
     },
     "execution_count": 3,
     "metadata": {},
     "output_type": "execute_result"
    }
   ],
   "source": [
    "df = pd.read_csv(r'C:\\Users\\vivia\\Projetos e Dados\\base_banco.csv')\n",
    "df"
   ]
  },
  {
   "cell_type": "markdown",
   "id": "cfa42853",
   "metadata": {},
   "source": [
    "### O que queremos prever?\n",
    "\n",
    "Renda"
   ]
  },
  {
   "cell_type": "code",
   "execution_count": 4,
   "id": "559d42ed",
   "metadata": {},
   "outputs": [
    {
     "data": {
      "image/png": "[encoded data removed]",
      "text/plain": [
       "<Figure size 1080x360 with 1 Axes>"
      ]
     },
     "metadata": {
      "needs_background": "light"
     },
     "output_type": "display_data"
    }
   ],
   "source": [
    "plt.figure(figsize=(15,5))\n",
    "plt.hist(df.MonthlyIncome, bins=100);"
   ]
  },
  {
   "cell_type": "code",
   "execution_count": 5,
   "id": "2d0ac7ff",
   "metadata": {},
   "outputs": [
    {
     "data": {
      "text/plain": [
       "array([   1.        ,    2.15443469,    4.64158883,   10.        ,\n",
       "         21.5443469 ,   46.41588834,  100.        ,  215.443469  ,\n",
       "        464.15888336, 1000.        ])"
      ]
     },
     "execution_count": 5,
     "metadata": {},
     "output_type": "execute_result"
    }
   ],
   "source": [
    "np.logspace(0,3,10) # 0 é potenciação"
   ]
  },
  {
   "cell_type": "code",
   "execution_count": 9,
   "id": "e572dced",
   "metadata": {},
   "outputs": [
    {
     "data": {
      "image/png": "[encoded data removed]",
      "text/plain": [
       "<Figure size 1080x360 with 1 Axes>"
      ]
     },
     "metadata": {
      "needs_background": "light"
     },
     "output_type": "display_data"
    }
   ],
   "source": [
    "plt.figure(figsize=(15,5))\n",
    "plt.hist(df.MonthlyIncome, bins=np.logspace(0,6.5,100));"
   ]
  },
  {
   "cell_type": "code",
   "execution_count": 12,
   "id": "d75cf9e9",
   "metadata": {},
   "outputs": [
    {
     "data": {
      "image/png": "[encoded data removed]",
      "text/plain": [
       "<Figure size 1080x360 with 1 Axes>"
      ]
     },
     "metadata": {
      "needs_background": "light"
     },
     "output_type": "display_data"
    }
   ],
   "source": [
    "plt.figure(figsize=(15,5))\n",
    "plt.hist(df.MonthlyIncome, bins=np.logspace(0,6.5,100));\n",
    "plt.xscale('log')"
   ]
  },
  {
   "cell_type": "code",
   "execution_count": 13,
   "id": "92d63f37",
   "metadata": {},
   "outputs": [
    {
     "data": {
      "text/plain": [
       "(array([1.e-02, 1.e-01, 1.e+00, 1.e+01, 1.e+02, 1.e+03, 1.e+04, 1.e+05,\n",
       "        1.e+06, 1.e+07, 1.e+08]),\n",
       " [Text(0, 0, ''),\n",
       "  Text(0, 0, ''),\n",
       "  Text(0, 0, ''),\n",
       "  Text(0, 0, ''),\n",
       "  Text(0, 0, ''),\n",
       "  Text(0, 0, ''),\n",
       "  Text(0, 0, ''),\n",
       "  Text(0, 0, ''),\n",
       "  Text(0, 0, ''),\n",
       "  Text(0, 0, ''),\n",
       "  Text(0, 0, '')])"
      ]
     },
     "execution_count": 13,
     "metadata": {},
     "output_type": "execute_result"
    },
    {
     "data": {
      "image/png": "[encoded data removed]",
      "text/plain": [
       "<Figure size 1080x360 with 1 Axes>"
      ]
     },
     "metadata": {
      "needs_background": "light"
     },
     "output_type": "display_data"
    }
   ],
   "source": [
    "plt.figure(figsize=(15,5))\n",
    "plt.hist(df.MonthlyIncome, bins=np.logspace(0,6.5,100));\n",
    "plt.xscale('log')\n",
    "plt.xticks(fontsize=18)"
   ]
  },
  {
   "cell_type": "code",
   "execution_count": 14,
   "id": "341b875e",
   "metadata": {},
   "outputs": [
    {
     "data": {
      "text/plain": [
       "(array([1.e-02, 1.e-01, 1.e+00, 1.e+01, 1.e+02, 1.e+03, 1.e+04, 1.e+05,\n",
       "        1.e+06, 1.e+07, 1.e+08]),\n",
       " [Text(0, 0, ''),\n",
       "  Text(0, 0, ''),\n",
       "  Text(0, 0, ''),\n",
       "  Text(0, 0, ''),\n",
       "  Text(0, 0, ''),\n",
       "  Text(0, 0, ''),\n",
       "  Text(0, 0, ''),\n",
       "  Text(0, 0, ''),\n",
       "  Text(0, 0, ''),\n",
       "  Text(0, 0, ''),\n",
       "  Text(0, 0, '')])"
      ]
     },
     "execution_count": 14,
     "metadata": {},
     "output_type": "execute_result"
    },
    {
     "data": {
      "image/png": "[encoded data removed]",
      "text/plain": [
       "<Figure size 1080x360 with 1 Axes>"
      ]
     },
     "metadata": {
      "needs_background": "light"
     },
     "output_type": "display_data"
    }
   ],
   "source": [
    "plt.figure(figsize=(15,5))\n",
    "plt.hist(df.MonthlyIncome, bins=np.logspace(0,6.5,100), rwidth=.8);\n",
    "plt.xscale('log')\n",
    "plt.xticks(fontsize=18)"
   ]
  },
  {
   "cell_type": "code",
   "execution_count": 22,
   "id": "abcf955d",
   "metadata": {},
   "outputs": [
    {
     "data": {
      "text/plain": [
       "6670.221237392844"
      ]
     },
     "execution_count": 22,
     "metadata": {},
     "output_type": "execute_result"
    }
   ],
   "source": [
    "df.MonthlyIncome.mean()"
   ]
  },
  {
   "cell_type": "code",
   "execution_count": 39,
   "id": "c295ef5b",
   "metadata": {},
   "outputs": [
    {
     "data": {
      "image/png": "[encoded data removed]",
      "text/plain": [
       "<Figure size 432x288 with 1 Axes>"
      ]
     },
     "metadata": {
      "needs_background": "light"
     },
     "output_type": "display_data"
    },
    {
     "data": {
      "image/png": "[encoded data removed]",
      "text/plain": [
       "<Figure size 432x288 with 1 Axes>"
      ]
     },
     "metadata": {
      "needs_background": "light"
     },
     "output_type": "display_data"
    }
   ],
   "source": [
    "plt.figure()\n",
    "plt.hist(df.loc[(df.age>=20) & (df.age<30)].MonthlyIncome, bins=np.logspace(0,6.5,100), rwidth=.8)\n",
    "plt.xscale('log')\n",
    "plt.grid()\n",
    "\n",
    "plt.figure()\n",
    "plt.hist(df.loc[(df.age>=50) & (df.age<60)].MonthlyIncome, bins=np.logspace(0,6.5,100), rwidth=.8)\n",
    "plt.xscale('log')\n",
    "plt.grid()"
   ]
  },
  {
   "cell_type": "markdown",
   "id": "120437c6",
   "metadata": {},
   "source": [
    "## Separar em variáveis preditivas e variável resposta"
   ]
  },
  {
   "cell_type": "code",
   "execution_count": 40,
   "id": "c6a2dc5f",
   "metadata": {},
   "outputs": [],
   "source": [
    "X = df.drop('MonthlyIncome', axis=1)\n",
    "y = df.MonthlyIncome"
   ]
  },
  {
   "cell_type": "markdown",
   "id": "17e9bd84",
   "metadata": {},
   "source": [
    "## Separação em treino e teste"
   ]
  },
  {
   "cell_type": "code",
   "execution_count": 41,
   "id": "57ca2f50",
   "metadata": {},
   "outputs": [
    {
     "data": {
      "text/plain": [
       "(120269, 8)"
      ]
     },
     "execution_count": 41,
     "metadata": {},
     "output_type": "execute_result"
    }
   ],
   "source": [
    "X.shape"
   ]
  },
  {
   "cell_type": "code",
   "execution_count": 42,
   "id": "d2c7f843",
   "metadata": {},
   "outputs": [],
   "source": [
    "from sklearn.model_selection import train_test_split\n",
    "\n",
    "X_tr, X_ts, y_tr, y_ts = train_test_split(X,y, test_size=.3)"
   ]
  },
  {
   "cell_type": "markdown",
   "id": "85a0c44f",
   "metadata": {},
   "source": [
    "## Treinar o Modelo"
   ]
  },
  {
   "cell_type": "code",
   "execution_count": 43,
   "id": "f7981c99",
   "metadata": {},
   "outputs": [
    {
     "data": {
      "text/plain": [
       "RandomForestRegressor(max_depth=8, n_estimators=500, n_jobs=-1)"
      ]
     },
     "execution_count": 43,
     "metadata": {},
     "output_type": "execute_result"
    }
   ],
   "source": [
    "from sklearn.ensemble import RandomForestRegressor\n",
    "\n",
    "rf = RandomForestRegressor(n_estimators=500, max_depth=8, n_jobs=-1)\n",
    "rf.fit(X_tr, y_tr)"
   ]
  },
  {
   "cell_type": "code",
   "execution_count": 47,
   "id": "828afae9",
   "metadata": {},
   "outputs": [
    {
     "data": {
      "text/plain": [
       "106217     3583.0\n",
       "68176      4000.0\n",
       "3713       5500.0\n",
       "101644     6000.0\n",
       "59738      3508.0\n",
       "           ...   \n",
       "29425      5100.0\n",
       "11209      3950.0\n",
       "61337      7170.0\n",
       "26686     11600.0\n",
       "3711       3500.0\n",
       "Name: MonthlyIncome, Length: 36081, dtype: float64"
      ]
     },
     "execution_count": 47,
     "metadata": {},
     "output_type": "execute_result"
    }
   ],
   "source": [
    "y_ts"
   ]
  },
  {
   "cell_type": "code",
   "execution_count": 48,
   "id": "aec958ae",
   "metadata": {},
   "outputs": [
    {
     "data": {
      "text/plain": [
       "array([ 6268.98822424,  6599.7631773 ,  6019.94006328, ...,\n",
       "       10156.51792301, 10387.0863698 ,  6434.91899541])"
      ]
     },
     "execution_count": 48,
     "metadata": {},
     "output_type": "execute_result"
    }
   ],
   "source": [
    "rf.predict(X_ts)"
   ]
  },
  {
   "cell_type": "code",
   "execution_count": 49,
   "id": "0d6f3c20",
   "metadata": {},
   "outputs": [
    {
     "data": {
      "text/plain": [
       "106217   -2685.988224\n",
       "68176    -2599.763177\n",
       "3713      -519.940063\n",
       "101644     899.300258\n",
       "59738    -2325.259426\n",
       "             ...     \n",
       "29425    -1152.557730\n",
       "11209     -168.451507\n",
       "61337    -2986.517923\n",
       "26686     1212.913630\n",
       "3711     -2934.918995\n",
       "Name: MonthlyIncome, Length: 36081, dtype: float64"
      ]
     },
     "execution_count": 49,
     "metadata": {},
     "output_type": "execute_result"
    }
   ],
   "source": [
    "erro = y_ts - rf.predict(X_ts)\n",
    "erro"
   ]
  },
  {
   "cell_type": "code",
   "execution_count": 51,
   "id": "81939750",
   "metadata": {},
   "outputs": [
    {
     "data": {
      "text/plain": [
       "-152.12695835957783"
      ]
     },
     "execution_count": 51,
     "metadata": {},
     "output_type": "execute_result"
    }
   ],
   "source": [
    "erro.mean()"
   ]
  },
  {
   "cell_type": "code",
   "execution_count": 52,
   "id": "026ebd9d",
   "metadata": {},
   "outputs": [
    {
     "data": {
      "text/plain": [
       "106217    2685.988224\n",
       "68176     2599.763177\n",
       "3713       519.940063\n",
       "101644     899.300258\n",
       "59738     2325.259426\n",
       "             ...     \n",
       "29425     1152.557730\n",
       "11209      168.451507\n",
       "61337     2986.517923\n",
       "26686     1212.913630\n",
       "3711      2934.918995\n",
       "Name: MonthlyIncome, Length: 36081, dtype: float64"
      ]
     },
     "execution_count": 52,
     "metadata": {},
     "output_type": "execute_result"
    }
   ],
   "source": [
    "erro_abs = np.abs(y_ts - rf.predict(X_ts))\n",
    "erro_abs"
   ]
  },
  {
   "cell_type": "code",
   "execution_count": 53,
   "id": "bddce22a",
   "metadata": {},
   "outputs": [
    {
     "data": {
      "text/plain": [
       "3162.793476902402"
      ]
     },
     "execution_count": 53,
     "metadata": {},
     "output_type": "execute_result"
    }
   ],
   "source": [
    "erro_abs.mean()"
   ]
  },
  {
   "cell_type": "code",
   "execution_count": 54,
   "id": "95ad4313",
   "metadata": {},
   "outputs": [
    {
     "data": {
      "text/plain": [
       "3162.7934769024023"
      ]
     },
     "execution_count": 54,
     "metadata": {},
     "output_type": "execute_result"
    }
   ],
   "source": [
    "from sklearn.metrics import mean_absolute_error\n",
    "mean_absolute_error(y_ts, rf.predict(X_ts))"
   ]
  },
  {
   "cell_type": "markdown",
   "id": "258974aa",
   "metadata": {},
   "source": [
    "## Como comparar Histogramas:\n",
    "\n",
    "1) Colocar na mesma escala </br>\n",
    "2) Colocar no mesmo gráfico  </br>\n",
    "3) Customizar </br>\n",
    "\n"
   ]
  },
  {
   "cell_type": "code",
   "execution_count": 55,
   "id": "0c651cc7",
   "metadata": {},
   "outputs": [
    {
     "data": {
      "image/png": "[encoded data removed]",
      "text/plain": [
       "<Figure size 1080x360 with 1 Axes>"
      ]
     },
     "metadata": {
      "needs_background": "light"
     },
     "output_type": "display_data"
    }
   ],
   "source": [
    "plt.figure(figsize=(15,5))\n",
    "plt.hist(y_ts,             bins=np.logspace(1,6.5,100), color='b', alpha=.30, density=True)\n",
    "plt.hist(rf.predict(X_ts), bins=np.logspace(1,6.5,100), color='r', alpha=.30, density=True)\n",
    "\n",
    "plt.xscale('log')"
   ]
  },
  {
   "cell_type": "code",
   "execution_count": null,
   "id": "2d33351e",
   "metadata": {},
   "outputs": [],
   "source": []
  }
 ],
 "metadata": {
  "kernelspec": {
   "display_name": "Python 3 (ipykernel)",
   "language": "python",
   "name": "python3"
  },
  "language_info": {
   "codemirror_mode": {
    "name": "ipython",
    "version": 3
   },
   "file_extension": ".py",
   "mimetype": "text/x-python",
   "name": "python",
   "nbconvert_exporter": "python",
   "pygments_lexer": "ipython3",
   "version": "3.9.12"
  }
 },
 "nbformat": 4,
 "nbformat_minor": 5
}
